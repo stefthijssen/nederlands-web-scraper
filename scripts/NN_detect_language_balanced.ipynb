{
 "cells": [
  {
   "cell_type": "code",
   "execution_count": 1,
   "metadata": {},
   "outputs": [
    {
     "name": "stderr",
     "output_type": "stream",
     "text": [
      "C:\\Users\\Saskia\\Anaconda3\\lib\\site-packages\\statsmodels\\tools\\_testing.py:19: FutureWarning: pandas.util.testing is deprecated. Use the functions in the public API at pandas.testing instead.\n",
      "  import pandas.util.testing as tm\n"
     ]
    }
   ],
   "source": [
    "import json\n",
    "import pandas as pd\n",
    "from sklearn.feature_extraction.text import CountVectorizer\n",
    "from sklearn.preprocessing import LabelEncoder\n",
    "from tensorflow import keras\n",
    "from keras.utils import np_utils\n",
    "from keras.models import Sequential\n",
    "from keras.layers import Dense\n",
    "import matplotlib.pyplot as plt\n",
    "import seaborn as sns\n",
    "from sklearn.metrics import accuracy_score,confusion_matrix\n",
    "import numpy as np\n",
    "import pickle"
   ]
  },
  {
   "cell_type": "code",
   "execution_count": 2,
   "metadata": {},
   "outputs": [],
   "source": [
    "# read the data\n",
    "file_nl = open('nl.json',)\n",
    "data_nl = pd.DataFrame.from_dict(json.load(file_nl))\n",
    "data_nl['Language'] = ['nl'] * len(data_nl)\n",
    "\n",
    "file_en = open('en.json',)\n",
    "data_en = pd.DataFrame.from_dict(json.load(file_en))\n",
    "data_en['Language'] = ['nonl'] * len(data_en)\n",
    "\n",
    "file_da = open('da.json',)\n",
    "data_da = pd.DataFrame.from_dict(json.load(file_da))\n",
    "data_da['Language'] = ['nonl'] * len(data_da)\n",
    "\n",
    "file_it = open('it.json',)\n",
    "data_it = pd.DataFrame.from_dict(json.load(file_it))\n",
    "data_it['Language'] = ['nonl'] * len(data_it)\n",
    "\n",
    "file_de = open('de.json',)\n",
    "data_de = pd.DataFrame.from_dict(json.load(file_de))\n",
    "data_de[\"Language\"] = ['nonl'] * len(data_de)\n",
    "\n",
    "file_af = open('af.json')\n",
    "data_af = pd.DataFrame.from_dict(json.load(file_af))\n",
    "data_af[\"Language\"] = ['af'] * len(data_af)"
   ]
  },
  {
   "cell_type": "code",
   "execution_count": 18,
   "metadata": {},
   "outputs": [],
   "source": [
    "data_nl_balanced = pd.concat([data_nl[data_nl['siteUrl'].str.contains('.com/')],\n",
    "                         data_nl[data_nl['siteUrl'].str.contains('.org/')],\n",
    "                         data_nl[~data_nl['siteUrl'].str.contains('.com/|.org/')].sample(6000)],\n",
    "                        ignore_index = True)\n",
    "\n",
    "# put dutch and other languages data in one dataframe (except for african)\n",
    "data = pd.concat([data_nl_balanced, data_en, data_da, data_it, data_de], ignore_index = True)\n",
    "#len(data_nl_balanced)"
   ]
  },
  {
   "cell_type": "code",
   "execution_count": 19,
   "metadata": {},
   "outputs": [],
   "source": [
    "#Filter by text language\n",
    "lang = ['nl', 'nonl']\n",
    "data = data[data['Language'].isin(lang)]\n",
    "\n",
    "#Select 10000 rows for dutch and 20000 for non-dutch\n",
    "data_trim = pd.DataFrame(columns=['siteUrl','Language'])\n",
    "\n",
    "lang_trim_nl = data[data['Language'] == 'nl'].sample(10000,random_state = 100)\n",
    "lang_trim_nonl = data[data['Language'] == 'nonl'].sample(20000,random_state = 100)\n",
    "data_trim = data_trim.append(lang_trim_nl)\n",
    "data_trim = data_trim.append(lang_trim_nonl)\n",
    "\n",
    "#Create a random train, valid, test split\n",
    "data_shuffle = data_trim.sample(frac=1)\n",
    "data_shuffle.drop([\"sample\"], axis = 1)\n",
    "\n",
    "train = data_shuffle[0:25000]\n",
    "valid = data_shuffle[20000:25000]\n",
    "test = data_shuffle[25000:30000]"
   ]
  },
  {
   "cell_type": "code",
   "execution_count": 20,
   "metadata": {},
   "outputs": [],
   "source": [
    "def get_trigrams(corpus,n_feat=300):\n",
    "    \"\"\"\n",
    "    Returns a list of the N most common character trigrams from a list of sentences\n",
    "    params\n",
    "    ------------\n",
    "        corpus: list of strings\n",
    "        n_feat: integer\n",
    "    \"\"\"\n",
    "    \n",
    "    #fit the n-gram model\n",
    "    vectorizer = CountVectorizer(analyzer='char',\n",
    "                            ngram_range=(3,3)\n",
    "                            ,max_features=n_feat)\n",
    "    \n",
    "    X = vectorizer.fit_transform(corpus)\n",
    "    \n",
    "    #Get model feature names\n",
    "    feature_names = vectorizer.get_feature_names()\n",
    "    \n",
    "    return feature_names"
   ]
  },
  {
   "cell_type": "code",
   "execution_count": 21,
   "metadata": {},
   "outputs": [],
   "source": [
    "#obtain trigrams from each language\n",
    "features = {}\n",
    "features_set = set()\n",
    "\n",
    "for l in lang:\n",
    "    \n",
    "    #get corpus filtered by language\n",
    "    corpus = train[train.Language==l]['siteUrl']\n",
    "    \n",
    "    #get 400 most frequent trigrams\n",
    "    trigrams = get_trigrams(corpus)\n",
    "    \n",
    "    #add to dict and set\n",
    "    features[l] = trigrams \n",
    "    features_set.update(trigrams)\n",
    "\n",
    "    \n",
    "#create vocabulary list using feature set\n",
    "vocab = dict()\n",
    "for i,f in enumerate(features_set):\n",
    "    vocab[f]=i\n",
    "    \n"
   ]
  },
  {
   "cell_type": "code",
   "execution_count": 22,
   "metadata": {},
   "outputs": [],
   "source": [
    "#train count vectoriser using vocabulary\n",
    "vectorizer = CountVectorizer(analyzer='char',\n",
    "                             ngram_range=(3,3),\n",
    "                            vocabulary=vocab)\n",
    "\n",
    "#create feature matrix for training set\n",
    "corpus = train['siteUrl']   \n",
    "X = vectorizer.fit_transform(corpus)\n",
    "feature_names = vectorizer.get_feature_names()\n",
    "\n",
    "train_feat = pd.DataFrame(data=X.toarray(),columns=feature_names)"
   ]
  },
  {
   "cell_type": "code",
   "execution_count": 23,
   "metadata": {},
   "outputs": [],
   "source": [
    "#Scale feature matrix \n",
    "train_min = train_feat.min()\n",
    "train_max = train_feat.max()\n",
    "train_feat = (train_feat - train_min)/(train_max-train_min)\n",
    "\n",
    "#Add target variable \n",
    "train_feat['Language'] = list(train['Language'])"
   ]
  },
  {
   "cell_type": "code",
   "execution_count": 24,
   "metadata": {},
   "outputs": [],
   "source": [
    "#create feature matrix for validation set\n",
    "corpus = valid['siteUrl']   \n",
    "X = vectorizer.fit_transform(corpus)\n",
    "\n",
    "valid_feat = pd.DataFrame(data=X.toarray(),columns=feature_names)\n",
    "valid_feat = (valid_feat - train_min)/(train_max-train_min)\n",
    "valid_feat['Language'] = list(valid['Language'])\n",
    "\n",
    "#create feature matrix for test set\n",
    "corpus = test['siteUrl']   \n",
    "X = vectorizer.fit_transform(corpus)\n",
    "\n",
    "test_feat = pd.DataFrame(data=X.toarray(),columns=feature_names)\n",
    "test_feat = (test_feat - train_min)/(train_max-train_min)\n",
    "test_feat['Language'] = list(test['Language'])"
   ]
  },
  {
   "cell_type": "code",
   "execution_count": 25,
   "metadata": {},
   "outputs": [],
   "source": [
    "#Fit encoder\n",
    "encoder = LabelEncoder()\n",
    "encoder.fit(['nl', 'nonl'])\n",
    "\n",
    "def encode(y):\n",
    "    \"\"\"\n",
    "    Returns a list of one hot encodings\n",
    "    Params\n",
    "    ---------\n",
    "        y: list of language labels\n",
    "    \"\"\"\n",
    "    \n",
    "    y_encoded = encoder.transform(y)\n",
    "    y_dummy = np_utils.to_categorical(y_encoded)\n",
    "    \n",
    "    return y_dummy"
   ]
  },
  {
   "cell_type": "code",
   "execution_count": 32,
   "metadata": {},
   "outputs": [
    {
     "name": "stdout",
     "output_type": "stream",
     "text": [
      "Epoch 1/10\n",
      "250/250 [==============================] - 2s 7ms/step - loss: 0.3723 - accuracy: 0.8093\n",
      "Epoch 2/10\n",
      "250/250 [==============================] - 2s 7ms/step - loss: 0.2306 - accuracy: 0.8846\n",
      "Epoch 3/10\n",
      "250/250 [==============================] - 2s 7ms/step - loss: 0.2152 - accuracy: 0.8946\n",
      "Epoch 4/10\n",
      "250/250 [==============================] - 2s 7ms/step - loss: 0.2037 - accuracy: 0.9030\n",
      "Epoch 5/10\n",
      "250/250 [==============================] - 2s 7ms/step - loss: 0.1910 - accuracy: 0.9104\n",
      "Epoch 6/10\n",
      "250/250 [==============================] - 2s 7ms/step - loss: 0.1798 - accuracy: 0.9167\n",
      "Epoch 7/10\n",
      "250/250 [==============================] - 2s 7ms/step - loss: 0.1688 - accuracy: 0.9223\n",
      "Epoch 8/10\n",
      "250/250 [==============================] - 2s 7ms/step - loss: 0.1530 - accuracy: 0.9336\n",
      "Epoch 9/10\n",
      "250/250 [==============================] - 2s 7ms/step - loss: 0.1371 - accuracy: 0.9426\n",
      "Epoch 10/10\n",
      "250/250 [==============================] - 2s 7ms/step - loss: 0.1218 - accuracy: 0.9507\n"
     ]
    },
    {
     "data": {
      "text/plain": [
       "<keras.callbacks.History at 0x21424125048>"
      ]
     },
     "execution_count": 32,
     "metadata": {},
     "output_type": "execute_result"
    }
   ],
   "source": [
    "#Get training data\n",
    "x = train_feat.drop('Language',axis=1)\n",
    "y = encode(train_feat['Language'])\n",
    "\n",
    "#Define model\n",
    "model = Sequential()\n",
    "model.add(Dense(500, input_dim=len(vocab), activation='relu'))\n",
    "model.add(Dense(500, activation='relu'))\n",
    "model.add(Dense(250, activation='relu'))\n",
    "model.add(Dense(2, activation='sigmoid'))\n",
    "model.compile(loss='categorical_crossentropy',\n",
    "              optimizer= keras.optimizers.Adam(learning_rate=0.0001),\n",
    "              metrics=['accuracy'])\n",
    "\n",
    "#Train model\n",
    "model.fit(x, y, epochs=10, batch_size=100)"
   ]
  },
  {
   "cell_type": "code",
   "execution_count": 33,
   "metadata": {},
   "outputs": [
    {
     "name": "stdout",
     "output_type": "stream",
     "text": [
      "accuray:  0.8836\n",
      "        nl  nonl\n",
      "nl    1418   247\n",
      "nonl   335  3000\n"
     ]
    }
   ],
   "source": [
    "x_test = test_feat.drop('Language',axis=1)\n",
    "y_test = test_feat['Language']\n",
    "\n",
    "#Get predictions on test set\n",
    "labels = model.predict(x_test)\n",
    "predictions = np.argmax(labels, axis=1)\n",
    "predictions = np.where(predictions, 'nonl', 'nl')\n",
    "\n",
    "#Accuracy on test set\n",
    "accuracy = accuracy_score(y_test,predictions)\n",
    "print(\"accuray: \", accuracy)\n",
    "\n",
    "#Create confusion matrix\n",
    "lang = ['nl', 'nonl']\n",
    "conf_matrix = confusion_matrix(y_test,predictions)\n",
    "conf_matrix_df = pd.DataFrame(conf_matrix,columns=lang,index=lang)\n",
    "print(conf_matrix_df)"
   ]
  },
  {
   "cell_type": "code",
   "execution_count": 34,
   "metadata": {},
   "outputs": [
    {
     "name": "stdout",
     "output_type": "stream",
     "text": [
      "INFO:tensorflow:Assets written to: nn_trigram_balanced\\assets\n"
     ]
    }
   ],
   "source": [
    "# Save the model for later use\n",
    "model.save('nn_trigram_balanced')\n",
    "\n",
    "train_min.to_pickle('trainmin_balanced.pkl')\n",
    "train_max.to_pickle('trainmax_balanced.pkl')\n",
    "\n",
    "file = open(\"vocabulary_balanced.pkl\", 'wb')\n",
    "pickle.dump(vocab, file)\n",
    "file.close()"
   ]
  },
  {
   "cell_type": "code",
   "execution_count": null,
   "metadata": {},
   "outputs": [],
   "source": []
  }
 ],
 "metadata": {
  "kernelspec": {
   "display_name": "Python 3",
   "language": "python",
   "name": "python3"
  },
  "language_info": {
   "codemirror_mode": {
    "name": "ipython",
    "version": 3
   },
   "file_extension": ".py",
   "mimetype": "text/x-python",
   "name": "python",
   "nbconvert_exporter": "python",
   "pygments_lexer": "ipython3",
   "version": "3.7.4"
  }
 },
 "nbformat": 4,
 "nbformat_minor": 2
}
