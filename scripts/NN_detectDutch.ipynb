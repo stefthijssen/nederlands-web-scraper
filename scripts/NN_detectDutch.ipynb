{
 "cells": [
  {
   "cell_type": "code",
   "execution_count": 302,
   "metadata": {},
   "outputs": [],
   "source": [
    "import json\n",
    "import pandas as pd\n",
    "from sklearn.feature_extraction.text import CountVectorizer\n",
    "from sklearn.preprocessing import LabelEncoder\n",
    "from tensorflow import keras\n",
    "from keras.utils import np_utils\n",
    "from keras.models import Sequential\n",
    "from keras.layers import Dense\n",
    "import matplotlib.pyplot as plt\n",
    "import seaborn as sns\n",
    "from sklearn.metrics import accuracy_score,confusion_matrix\n",
    "import numpy as np\n",
    "import pickle"
   ]
  },
  {
   "cell_type": "code",
   "execution_count": 303,
   "metadata": {},
   "outputs": [],
   "source": [
    "# read the data\n",
    "file_nl = open('nl.json',)\n",
    "data_nl = pd.DataFrame.from_dict(json.load(file_nl))\n",
    "data_nl['Language'] = ['nl'] * len(data_nl)\n",
    "\n",
    "file_en = open('en.json',)\n",
    "data_en = pd.DataFrame.from_dict(json.load(file_en))\n",
    "data_en['Language'] = ['nonl'] * len(data_en)\n",
    "\n",
    "file_da = open('da.json',)\n",
    "data_da = pd.DataFrame.from_dict(json.load(file_da))\n",
    "data_da['Language'] = ['nonl'] * len(data_da)\n",
    "\n",
    "file_it = open('it.json',)\n",
    "data_it = pd.DataFrame.from_dict(json.load(file_it))\n",
    "data_it['Language'] = ['nonl'] * len(data_it)\n",
    "\n",
    "file_de = open('de.json',)\n",
    "data_de = pd.DataFrame.from_dict(json.load(file_de))\n",
    "data_de[\"Language\"] = ['nonl'] * len(data_de)\n",
    "\n",
    "file_af = open('af.json')\n",
    "data_af = pd.DataFrame.from_dict(json.load(file_af))\n",
    "data_af[\"Language\"] = ['af'] * len(data_af)\n",
    "\n",
    "# put dutch and other languages data in one dataframe (except for african)\n",
    "data = pd.concat([data_nl, data_en, data_da, data_it, data_de], ignore_index = True)"
   ]
  },
  {
   "cell_type": "code",
   "execution_count": 304,
   "metadata": {},
   "outputs": [],
   "source": [
    "#Filter by text language\n",
    "lang = ['nl', 'nonl']\n",
    "data = data[data['Language'].isin(lang)]\n",
    "\n",
    "#Select 4000 rows for dutch and 160000 for non-dutch\n",
    "data_trim = pd.DataFrame(columns=['siteUrl','Language'])\n",
    "\n",
    "lang_trim_nl = data[data['Language'] == 'nl'].sample(40000,random_state = 100)\n",
    "lang_trim_nonl = data[data['Language'] == 'nonl'].sample(160000,random_state = 100)\n",
    "data_trim = data_trim.append(lang_trim_nl)\n",
    "data_trim = data_trim.append(lang_trim_nonl)\n",
    "\n",
    "#Create a random train, valid, test split\n",
    "data_shuffle = data_trim.sample(frac=1)\n",
    "data_shuffle.drop([\"sample\"], axis = 1)\n",
    "\n",
    "train = data_shuffle[0:150000]\n",
    "valid = data_shuffle[150000:180000]\n",
    "test = data_shuffle[180000:200000]"
   ]
  },
  {
   "cell_type": "code",
   "execution_count": 305,
   "metadata": {},
   "outputs": [],
   "source": [
    "def get_trigrams(corpus,n_feat=300):\n",
    "    \"\"\"\n",
    "    Returns a list of the N most common character trigrams from a list of sentences\n",
    "    params\n",
    "    ------------\n",
    "        corpus: list of strings\n",
    "        n_feat: integer\n",
    "    \"\"\"\n",
    "    \n",
    "    #fit the n-gram model\n",
    "    vectorizer = CountVectorizer(analyzer='char',\n",
    "                            ngram_range=(3,3)\n",
    "                            ,max_features=n_feat)\n",
    "    \n",
    "    X = vectorizer.fit_transform(corpus)\n",
    "    \n",
    "    #Get model feature names\n",
    "    feature_names = vectorizer.get_feature_names()\n",
    "    \n",
    "    return feature_names"
   ]
  },
  {
   "cell_type": "code",
   "execution_count": 306,
   "metadata": {},
   "outputs": [],
   "source": [
    "#obtain trigrams from each language\n",
    "features = {}\n",
    "features_set = set()\n",
    "\n",
    "for l in lang:\n",
    "    \n",
    "    #get corpus filtered by language\n",
    "    corpus = train[train.Language==l]['siteUrl']\n",
    "    \n",
    "    #get 400 most frequent trigrams\n",
    "    trigrams = get_trigrams(corpus)\n",
    "    \n",
    "    #add to dict and set\n",
    "    features[l] = trigrams \n",
    "    features_set.update(trigrams)\n",
    "\n",
    "    \n",
    "#create vocabulary list using feature set\n",
    "vocab = dict()\n",
    "for i,f in enumerate(features_set):\n",
    "    vocab[f]=i\n",
    "    \n"
   ]
  },
  {
   "cell_type": "code",
   "execution_count": 307,
   "metadata": {},
   "outputs": [],
   "source": [
    "#train count vectoriser using vocabulary\n",
    "vectorizer = CountVectorizer(analyzer='char',\n",
    "                             ngram_range=(3,3),\n",
    "                            vocabulary=vocab)\n",
    "\n",
    "#create feature matrix for training set\n",
    "corpus = train['siteUrl']   \n",
    "X = vectorizer.fit_transform(corpus)\n",
    "feature_names = vectorizer.get_feature_names()\n",
    "\n",
    "train_feat = pd.DataFrame(data=X.toarray(),columns=feature_names)"
   ]
  },
  {
   "cell_type": "code",
   "execution_count": 308,
   "metadata": {},
   "outputs": [],
   "source": [
    "#Scale feature matrix \n",
    "train_min = train_feat.min()\n",
    "train_max = train_feat.max()\n",
    "train_feat = (train_feat - train_min)/(train_max-train_min)\n",
    "\n",
    "#Add target variable \n",
    "train_feat['Language'] = list(train['Language'])"
   ]
  },
  {
   "cell_type": "code",
   "execution_count": 309,
   "metadata": {},
   "outputs": [],
   "source": [
    "#create feature matrix for validation set\n",
    "corpus = valid['siteUrl']   \n",
    "X = vectorizer.fit_transform(corpus)\n",
    "\n",
    "valid_feat = pd.DataFrame(data=X.toarray(),columns=feature_names)\n",
    "valid_feat = (valid_feat - train_min)/(train_max-train_min)\n",
    "valid_feat['Language'] = list(valid['Language'])\n",
    "\n",
    "#create feature matrix for test set\n",
    "corpus = test['siteUrl']   \n",
    "X = vectorizer.fit_transform(corpus)\n",
    "\n",
    "test_feat = pd.DataFrame(data=X.toarray(),columns=feature_names)\n",
    "test_feat = (test_feat - train_min)/(train_max-train_min)\n",
    "test_feat['Language'] = list(test['Language'])"
   ]
  },
  {
   "cell_type": "code",
   "execution_count": 310,
   "metadata": {},
   "outputs": [],
   "source": [
    "#Fit encoder\n",
    "encoder = LabelEncoder()\n",
    "encoder.fit(['nl', 'nonl'])\n",
    "\n",
    "def encode(y):\n",
    "    \"\"\"\n",
    "    Returns a list of one hot encodings\n",
    "    Params\n",
    "    ---------\n",
    "        y: list of language labels\n",
    "    \"\"\"\n",
    "    \n",
    "    y_encoded = encoder.transform(y)\n",
    "    y_dummy = np_utils.to_categorical(y_encoded)\n",
    "    \n",
    "    return y_dummy"
   ]
  },
  {
   "cell_type": "code",
   "execution_count": 311,
   "metadata": {},
   "outputs": [
    {
     "name": "stdout",
     "output_type": "stream",
     "text": [
      "Epoch 1/5\n",
      "1500/1500 [==============================] - 11s 7ms/step - loss: 0.1339 - accuracy: 0.9560\n",
      "Epoch 2/5\n",
      "1500/1500 [==============================] - 11s 7ms/step - loss: 0.0991 - accuracy: 0.9693\n",
      "Epoch 3/5\n",
      "1500/1500 [==============================] - 11s 7ms/step - loss: 0.0946 - accuracy: 0.9705\n",
      "Epoch 4/5\n",
      "1500/1500 [==============================] - 11s 8ms/step - loss: 0.0898 - accuracy: 0.9717\n",
      "Epoch 5/5\n",
      "1500/1500 [==============================] - 11s 7ms/step - loss: 0.0837 - accuracy: 0.9734\n"
     ]
    },
    {
     "data": {
      "text/plain": [
       "<keras.callbacks.History at 0x22f89035948>"
      ]
     },
     "execution_count": 311,
     "metadata": {},
     "output_type": "execute_result"
    }
   ],
   "source": [
    "#Get training data\n",
    "x = train_feat.drop('Language',axis=1)\n",
    "y = encode(train_feat['Language'])\n",
    "\n",
    "#Define model\n",
    "model = Sequential()\n",
    "model.add(Dense(500, input_dim=len(vocab), activation='relu'))\n",
    "model.add(Dense(500, activation='relu'))\n",
    "model.add(Dense(250, activation='relu'))\n",
    "model.add(Dense(2, activation='sigmoid'))\n",
    "model.compile(loss='categorical_crossentropy',\n",
    "              optimizer= keras.optimizers.Adam(learning_rate=0.0001),\n",
    "              metrics=['accuracy'])\n",
    "\n",
    "#Train model\n",
    "model.fit(x, y, epochs=5, batch_size=100)"
   ]
  },
  {
   "cell_type": "code",
   "execution_count": 312,
   "metadata": {},
   "outputs": [
    {
     "name": "stdout",
     "output_type": "stream",
     "text": [
      "accuray:  0.96915\n",
      "        nl   nonl\n",
      "nl    3542    463\n",
      "nonl   154  15841\n"
     ]
    }
   ],
   "source": [
    "x_test = test_feat.drop('Language',axis=1)\n",
    "y_test = test_feat['Language']\n",
    "\n",
    "#Get predictions on test set\n",
    "labels = model.predict(x_test)\n",
    "predictions = np.argmax(labels, axis=1)\n",
    "predictions = np.where(predictions, 'nonl', 'nl')\n",
    "\n",
    "#Accuracy on test set\n",
    "accuracy = accuracy_score(y_test,predictions)\n",
    "print(\"accuray: \", accuracy)\n",
    "\n",
    "#Create confusion matrix\n",
    "lang = ['nl', 'nonl']\n",
    "conf_matrix = confusion_matrix(y_test,predictions)\n",
    "conf_matrix_df = pd.DataFrame(conf_matrix,columns=lang,index=lang)\n",
    "print(conf_matrix_df)"
   ]
  },
  {
   "cell_type": "code",
   "execution_count": 313,
   "metadata": {},
   "outputs": [],
   "source": [
    "# Test for African websites\n",
    "corpus = data_af['siteUrl']   \n",
    "X = vectorizer.fit_transform(corpus)\n",
    "\n",
    "test_feat = pd.DataFrame(data=X.toarray(),columns=feature_names)\n",
    "test_feat = (test_feat - train_min)/(train_max-train_min)\n",
    "test_feat['Language'] = list(data_af['Language'])\n",
    "\n",
    "x_test = test_feat.drop('Language',axis=1)\n",
    "y_test = test_feat['Language']\n",
    "\n",
    "#Get predictions on test set\n",
    "labels = model.predict(x_test)\n",
    "predictions = np.argmax(labels, axis=1)"
   ]
  },
  {
   "cell_type": "code",
   "execution_count": 314,
   "metadata": {},
   "outputs": [
    {
     "name": "stdout",
     "output_type": "stream",
     "text": [
      "INFO:tensorflow:Assets written to: nn_trigram\\assets\n"
     ]
    }
   ],
   "source": [
    "# Save the model for later use\n",
    "model.save('nn_trigram')\n",
    "\n",
    "train_min.to_pickle('trainmin.pkl')\n",
    "train_max.to_pickle('trainmax.pkl')\n",
    "\n",
    "file = open(\"vocabulary.pkl\", 'wb')\n",
    "pickle.dump(vocab, file)\n",
    "file.close()"
   ]
  },
  {
   "cell_type": "code",
   "execution_count": null,
   "metadata": {},
   "outputs": [],
   "source": []
  }
 ],
 "metadata": {
  "kernelspec": {
   "display_name": "Python 3",
   "language": "python",
   "name": "python3"
  },
  "language_info": {
   "codemirror_mode": {
    "name": "ipython",
    "version": 3
   },
   "file_extension": ".py",
   "mimetype": "text/x-python",
   "name": "python",
   "nbconvert_exporter": "python",
   "pygments_lexer": "ipython3",
   "version": "3.7.4"
  }
 },
 "nbformat": 4,
 "nbformat_minor": 2
}
