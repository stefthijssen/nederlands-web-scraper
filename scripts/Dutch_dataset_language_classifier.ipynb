{
 "cells": [
  {
   "cell_type": "code",
   "execution_count": 1,
   "metadata": {},
   "outputs": [],
   "source": [
    "import json\n",
    "import pandas as pd\n",
    "import re\n",
    "from langdetect import detect, DetectorFactory\n",
    "\n",
    "f = open('nl.json',)\n",
    "data = json.load(f)"
   ]
  },
  {
   "cell_type": "code",
   "execution_count": 7,
   "metadata": {},
   "outputs": [],
   "source": [
    "dataframe = pd.DataFrame.from_dict(data)"
   ]
  },
  {
   "cell_type": "code",
   "execution_count": 36,
   "metadata": {
    "scrolled": true
   },
   "outputs": [
    {
     "name": "stdout",
     "output_type": "stream",
     "text": [
      "0\n",
      "1000\n",
      "2000\n",
      "3000\n",
      "4000\n",
      "5000\n",
      "6000\n",
      "7000\n",
      "8000\n",
      "9000\n",
      "10000\n",
      "11000\n",
      "12000\n",
      "13000\n",
      "14000\n",
      "15000\n",
      "16000\n",
      "17000\n",
      "18000\n",
      "19000\n",
      "20000\n",
      "21000\n",
      "22000\n",
      "23000\n",
      "24000\n",
      "25000\n",
      "26000\n",
      "27000\n",
      "28000\n",
      "29000\n",
      "30000\n",
      "31000\n",
      "32000\n",
      "33000\n",
      "34000\n",
      "35000\n",
      "36000\n",
      "37000\n",
      "38000\n",
      "39000\n",
      "40000\n",
      "41000\n",
      "42000\n",
      "43000\n",
      "44000\n",
      "45000\n",
      "46000\n",
      "47000\n",
      "48000\n",
      "49000\n"
     ]
    }
   ],
   "source": [
    "language = []\n",
    "for i in range(0, len(dataframe)):\n",
    "    sentence_lan = []\n",
    "    for j in range(0, len(dataframe['sample'][i])):\n",
    "        sentence_lan.append(detect(dataframe['sample'][i][j]))\n",
    "    language.append(sentence_lan)\n",
    "    if i % 1000 == 0:\n",
    "        print(i)"
   ]
  },
  {
   "cell_type": "code",
   "execution_count": 61,
   "metadata": {},
   "outputs": [],
   "source": [
    "count = 0\n",
    "\n",
    "for i in range(0, len(language)):\n",
    "    if language[i].count('nl') >= 3:\n",
    "        count += 1\n",
    "        \n",
    "# total number of samples classified as 'nl'\n",
    "count/len(language)"
   ]
  },
  {
   "cell_type": "code",
   "execution_count": 102,
   "metadata": {},
   "outputs": [],
   "source": [
    "# from collections import Counter\n",
    "# flat_list = [item for sublist in language for item in sublist]\n",
    "# Counter(flat_list)"
   ]
  },
  {
   "cell_type": "code",
   "execution_count": 148,
   "metadata": {},
   "outputs": [],
   "source": [
    "dataframe['sample'][0]\n",
    "\n",
    "sentence_len = []\n",
    "for i in range(0, len(dataframe)):\n",
    "    sentence_len.append([len(dataframe['sample'][i][a].split()) for a in range(0,len(dataframe['sample'][i]))])"
   ]
  },
  {
   "cell_type": "code",
   "execution_count": 174,
   "metadata": {},
   "outputs": [],
   "source": [
    "dataframe['sentence_len'] = sentence_len\n",
    "dataframe['language'] = language"
   ]
  },
  {
   "cell_type": "code",
   "execution_count": 200,
   "metadata": {},
   "outputs": [
    {
     "data": {
      "text/plain": [
       "0.6913251882396839"
      ]
     },
     "execution_count": 200,
     "metadata": {},
     "output_type": "execute_result"
    }
   ],
   "source": [
    "# number of sentences which are longer than n words and its classification\n",
    "n = 10\n",
    "count_all = 0\n",
    "count_nl = 0\n",
    "\n",
    "for i in range(0, len(dataframe)):\n",
    "    for j in range(0, len(dataframe['sentence_len'][i])):\n",
    "        if dataframe['sentence_len'][i][j] > n:\n",
    "            count_all += 1\n",
    "            if dataframe['language'][i][j] == 'nl':\n",
    "                count_nl += 1\n",
    "\n",
    "count_nl / count_all"
   ]
  },
  {
   "cell_type": "code",
   "execution_count": 199,
   "metadata": {},
   "outputs": [
    {
     "data": {
      "text/plain": [
       "0.7646160425193964"
      ]
     },
     "execution_count": 199,
     "metadata": {},
     "output_type": "execute_result"
    }
   ],
   "source": [
    "# classify based on only the longest sentence in the sample\n",
    "count = 0\n",
    "for i in range(0, len(dataframe)):\n",
    "    max_val = max(dataframe['sentence_len'][i])\n",
    "    max_idx = dataframe['sentence_len'][i].index(max_val)\n",
    "    if dataframe['language'][i][max_idx] == 'nl':\n",
    "        count += 1\n",
    "    \n",
    "count/len(dataframe)"
   ]
  },
  {
   "cell_type": "code",
   "execution_count": 209,
   "metadata": {},
   "outputs": [
    {
     "name": "stdout",
     "output_type": "stream",
     "text": [
      "37548\n",
      "922\n"
     ]
    }
   ],
   "source": [
    "count = 0\n",
    "count2 = 0\n",
    "for i in range(0, len(dataframe)):\n",
    "    max_val = max(dataframe['sentence_len'][i])\n",
    "    max_idx = dataframe['sentence_len'][i].index(max_val)\n",
    "    if dataframe['language'][i][max_idx] == 'nl':\n",
    "        count += 1\n",
    "    elif dataframe['language'][i].count('nl') >= 3:\n",
    "        count2 += 1\n",
    "        \n",
    "        \n",
    "print(count)\n",
    "print(count2)"
   ]
  },
  {
   "cell_type": "code",
   "execution_count": 211,
   "metadata": {},
   "outputs": [
    {
     "data": {
      "text/plain": [
       "0.7833913698658033"
      ]
     },
     "execution_count": 211,
     "metadata": {},
     "output_type": "execute_result"
    }
   ],
   "source": [
    "(count + count2) / len(dataframe)"
   ]
  }
 ],
 "metadata": {
  "kernelspec": {
   "display_name": "Python 3",
   "language": "python",
   "name": "python3"
  },
  "language_info": {
   "codemirror_mode": {
    "name": "ipython",
    "version": 3
   },
   "file_extension": ".py",
   "mimetype": "text/x-python",
   "name": "python",
   "nbconvert_exporter": "python",
   "pygments_lexer": "ipython3",
   "version": "3.7.4"
  }
 },
 "nbformat": 4,
 "nbformat_minor": 2
}
