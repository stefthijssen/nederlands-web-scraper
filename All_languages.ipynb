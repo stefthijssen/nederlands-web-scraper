{
 "cells": [
  {
   "cell_type": "code",
   "execution_count": 122,
   "metadata": {},
   "outputs": [],
   "source": [
    "import json\n",
    "import pandas as pd\n",
    "import re\n",
    "from langdetect import detect, DetectorFactory\n",
    "from collections import Counter"
   ]
  },
  {
   "cell_type": "code",
   "execution_count": 123,
   "metadata": {},
   "outputs": [],
   "source": [
    "file_nl = open('nl.json',)\n",
    "data_nl = pd.DataFrame.from_dict(json.load(file_nl))\n",
    "data_nl['Dutch'] = ['nl'] * len(data_nl)\n",
    "\n",
    "file_af = open('af.json',)\n",
    "data_af = pd.DataFrame.from_dict(json.load(file_af))\n",
    "data_af['Dutch'] = ['af'] * len(data_af)\n",
    "\n",
    "file_da = open('da.json',)\n",
    "data_da = pd.DataFrame.from_dict(json.load(file_da))\n",
    "data_da['Dutch'] = ['da'] * len(data_da)\n",
    "\n",
    "file_it = open('it.json',)\n",
    "data_it = pd.DataFrame.from_dict(json.load(file_it))\n",
    "data_it['Dutch'] = ['it'] * len(data_it)\n",
    "\n",
    "file_en = open('en.json',)\n",
    "data_en = pd.DataFrame.from_dict(json.load(file_en))\n",
    "data_en['Dutch'] = ['en'] * len(data_en)\n"
   ]
  },
  {
   "cell_type": "code",
   "execution_count": 124,
   "metadata": {},
   "outputs": [],
   "source": [
    "rand_sample = pd.concat([data_nl.sample(n = 100, replace = False),\n",
    "                         data_af.sample(n = 100, replace = False),\n",
    "                         data_da.sample(n = 100, replace = False),\n",
    "                         data_it.sample(n = 100, replace = False),\n",
    "                         data_en.sample(n = 100, replace = False)],ignore_index=True)"
   ]
  },
  {
   "cell_type": "code",
   "execution_count": 125,
   "metadata": {},
   "outputs": [],
   "source": [
    "language =[]\n",
    "language_dutch = []\n",
    "URLs = []\n",
    "\n",
    "for i in range(0,len(rand_sample)):\n",
    "    URL = rand_sample['siteUrl'][i]\n",
    "    parts = URL.split(\"/\")[2].replace(\"www.\", \"\").replace(\"ww3.\", \"\").split(\".\")\n",
    "    v = \".\".join(parts[:len(parts)-1])\n",
    "    URLs.append(v)\n",
    "    det_v = detect(v)\n",
    "    language.append(det_v)\n",
    "    if det_v != 'nl':\n",
    "        language_dutch.append(0)\n",
    "    else: language_dutch.append(1)"
   ]
  },
  {
   "cell_type": "code",
   "execution_count": 115,
   "metadata": {},
   "outputs": [],
   "source": [
    "rand_sample['pred'] = language\n",
    "rand_sample['pred_dutch'] = language_dutch"
   ]
  },
  {
   "cell_type": "code",
   "execution_count": 116,
   "metadata": {},
   "outputs": [
    {
     "data": {
      "text/plain": [
       "19"
      ]
     },
     "execution_count": 116,
     "metadata": {},
     "output_type": "execute_result"
    }
   ],
   "source": [
    "sum(language_dutch[0:100])"
   ]
  },
  {
   "cell_type": "code",
   "execution_count": 121,
   "metadata": {},
   "outputs": [
    {
     "data": {
      "text/plain": [
       "18"
      ]
     },
     "execution_count": 121,
     "metadata": {},
     "output_type": "execute_result"
    }
   ],
   "source": [
    "sum(language_dutch[100:500])"
   ]
  },
  {
   "cell_type": "code",
   "execution_count": 118,
   "metadata": {},
   "outputs": [
    {
     "data": {
      "text/plain": [
       "Counter({'cs': 1,\n",
       "         'so': 2,\n",
       "         'no': 3,\n",
       "         'en': 10,\n",
       "         'hu': 2,\n",
       "         'es': 3,\n",
       "         'tl': 1,\n",
       "         'af': 13,\n",
       "         'hr': 5,\n",
       "         'pl': 1,\n",
       "         'id': 5,\n",
       "         'da': 9,\n",
       "         'sk': 1,\n",
       "         'it': 4,\n",
       "         'sl': 3,\n",
       "         'de': 4,\n",
       "         'sw': 1,\n",
       "         'sv': 3,\n",
       "         'fi': 4,\n",
       "         'fr': 1,\n",
       "         'ro': 1,\n",
       "         'cy': 2,\n",
       "         'ca': 2})"
      ]
     },
     "execution_count": 118,
     "metadata": {},
     "output_type": "execute_result"
    }
   ],
   "source": [
    "dutch = rand_sample[0:100]\n",
    "wrong_class = dutch.loc[dutch['pred_dutch'] == 0, 'pred']\n",
    "\n",
    "# predictions for the (known) dutch webistes\n",
    "Counter(wrong_class)"
   ]
  },
  {
   "cell_type": "code",
   "execution_count": 120,
   "metadata": {},
   "outputs": [
    {
     "data": {
      "text/plain": [
       "Counter({'af': 9, 'da': 3, 'it': 5, 'en': 1})"
      ]
     },
     "execution_count": 120,
     "metadata": {},
     "output_type": "execute_result"
    }
   ],
   "source": [
    "not_dutch = rand_sample[100:500]\n",
    "\n",
    "wrong_class = not_dutch.loc[not_dutch['pred_dutch'] == 1, 'Dutch']\n",
    "\n",
    "# predictions for the (known) dutch webistes\n",
    "Counter(wrong_class)"
   ]
  },
  {
   "cell_type": "code",
   "execution_count": null,
   "metadata": {},
   "outputs": [],
   "source": []
  }
 ],
 "metadata": {
  "kernelspec": {
   "display_name": "Python 3",
   "language": "python",
   "name": "python3"
  },
  "language_info": {
   "codemirror_mode": {
    "name": "ipython",
    "version": 3
   },
   "file_extension": ".py",
   "mimetype": "text/x-python",
   "name": "python",
   "nbconvert_exporter": "python",
   "pygments_lexer": "ipython3",
   "version": "3.7.4"
  }
 },
 "nbformat": 4,
 "nbformat_minor": 2
}
